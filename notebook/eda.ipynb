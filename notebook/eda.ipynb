{
 "cells": [
  {
   "cell_type": "code",
   "execution_count": null,
   "id": "9d9ab9fb",
   "metadata": {},
   "outputs": [],
   "source": [
    "import pandas as pd\n",
    "import matplotlib.pyplot as plt\n",
    "import seaborn as sns\n",
    "\n",
    "sales = pd.read_csv(\"../data/raw/sales_data.csv\", parse_dates=[\"date\"])\n",
    "catalog = pd.read_csv(\"../data/raw/product_catalog.csv\")\n",
    "\n",
    "# Basic stats\n",
    "print(sales.describe())\n",
    "print(sales[\"category\"].value_counts())\n",
    "\n",
    "# Time-series trend\n",
    "daily_sales = sales.groupby(\"date\")[\"units_sold\"].sum()\n",
    "daily_sales.plot(figsize=(12,4), title=\"Total Units Sold Over Time\")\n",
    "\n",
    "# Promotions effect\n",
    "sns.boxplot(x=sales[\"promo_discount\"], y=sales[\"units_sold\"])\n",
    "\n",
    "# Correlation heatmap\n",
    "sns.heatmap(sales.corr(numeric_only=True), annot=True, cmap=\"coolwarm\")\n",
    "     "
   ]
  }
 ],
 "metadata": {
  "kernelspec": {
   "display_name": ".venv-1",
   "language": "python",
   "name": "python3"
  },
  "language_info": {
   "codemirror_mode": {
    "name": "ipython",
    "version": 3
   },
   "file_extension": ".py",
   "mimetype": "text/x-python",
   "name": "python",
   "nbconvert_exporter": "python",
   "pygments_lexer": "ipython3",
   "version": "3.10.0"
  }
 },
 "nbformat": 4,
 "nbformat_minor": 5
}
